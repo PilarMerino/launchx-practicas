{
 "cells": [
  {
   "cell_type": "code",
   "execution_count": 3,
   "metadata": {},
   "outputs": [
    {
     "data": {
      "text/plain": [
       "'payload, propellant, structure'"
      ]
     },
     "execution_count": 3,
     "metadata": {},
     "output_type": "execute_result"
    }
   ],
   "source": [
    "def rocket_parts():\n",
    "    return 'payload, propellant, structure'\n",
    "\n",
    "output = rocket_parts()\n",
    "output"
   ]
  },
  {
   "cell_type": "markdown",
   "metadata": {},
   "source": [
    "## Ejercicio: Uso de funciones en Python\n",
    "\n",
    "Ejercicio 1: Trabajar con argumentos en funciones\n",
    "\n",
    "En este ejercicio, construirás un informe de combustible que requiere información de varias ubicaciones de combustible en todo el cohete.\n",
    "\n",
    "Comienza por crear una función que necesite tres lecturas de combustible y devuelva un informe:"
   ]
  },
  {
   "cell_type": "code",
   "execution_count": 33,
   "metadata": {},
   "outputs": [],
   "source": [
    "def retrieve_fuels(fuel_one, fuel_two, fuel_trhee):\n",
    "    return f\"\"\" ---- Informe de lecturas de combustible ----\n",
    "    \\n1er lectura de combustible: {fuel_one}\n",
    "    \\n2da lectura de combustible: {fuel_two}\n",
    "    \\n3er lectura de combustible: {fuel_trhee}\"\"\"\n"
   ]
  },
  {
   "cell_type": "markdown",
   "metadata": {},
   "source": [
    "Ahora que hemos definido la función de informes, vamos a comprobarlo. Para esta misión, los tanques no están llenos:"
   ]
  },
  {
   "cell_type": "code",
   "execution_count": 34,
   "metadata": {},
   "outputs": [
    {
     "name": "stdout",
     "output_type": "stream",
     "text": [
      " ---- Informe de lecturas de combustible ----\n",
      "    \n",
      "1er lectura de combustible: 12\n",
      "    \n",
      "2da lectura de combustible: 13\n",
      "    \n",
      "3er lectura de combustible: 14\n"
     ]
    }
   ],
   "source": [
    "\n",
    "print(retrieve_fuels(12,13,14))\n"
   ]
  },
  {
   "cell_type": "markdown",
   "metadata": {},
   "source": [
    "En lugar de simplemente crear el informe, la función también está calculando el promedio. Mejora la legibilidad extrayendo el cálculo promedio de la función en una nueva función para que el promedio se pueda hacer de forma independiente:"
   ]
  },
  {
   "cell_type": "code",
   "execution_count": 40,
   "metadata": {},
   "outputs": [],
   "source": [
    "#Function to calculatre the average using a list of values\n",
    "def calculate_average(fuel_values):\n",
    "    return sum(fuel_values)/3\n"
   ]
  },
  {
   "cell_type": "markdown",
   "metadata": {},
   "source": [
    "Ahora actualiza la función de informes para llamando a la nueva función del promedio:"
   ]
  },
  {
   "cell_type": "code",
   "execution_count": 41,
   "metadata": {},
   "outputs": [
    {
     "name": "stdout",
     "output_type": "stream",
     "text": [
      " ---- Informe de lecturas de combustible ----\n",
      "    \n",
      "1er lectura de combustible: 12\n",
      "    \n",
      "2da lectura de combustible: 13\n",
      "    \n",
      "3er lectura de combustible: 14\n",
      "    \n",
      "Promedio de las 3 lecturas: 13.0\n"
     ]
    }
   ],
   "source": [
    "\n",
    "def retrieve_fuels(fuel_one, fuel_two, fuel_trhee):\n",
    "    return f\"\"\" ---- Informe de lecturas de combustible ----\n",
    "    \\n1er lectura de combustible: {fuel_one}\n",
    "    \\n2da lectura de combustible: {fuel_two}\n",
    "    \\n3er lectura de combustible: {fuel_trhee}\n",
    "    \\nPromedio de las 3 lecturas: {calculate_average([fuel_one, fuel_two, fuel_trhee])}\"\"\"\n",
    "\n",
    "#Testing the updated function\n",
    "print(retrieve_fuels(12,13,14))\n"
   ]
  },
  {
   "cell_type": "markdown",
   "metadata": {},
   "source": [
    "## Ejercicio 2: Trabajo con argumentos de palabra clave\n",
    "\n",
    "En este ejercicio, construirás un informe de cohete que requiere varias piezas de información, como el tiempo hasta el destino, el combustible a la izquierda y el nombre del destino.\n",
    "\n",
    "Comienza por crear una función que creará un informe preciso de la misión:"
   ]
  },
  {
   "cell_type": "code",
   "execution_count": 44,
   "metadata": {},
   "outputs": [
    {
     "name": "stdout",
     "output_type": "stream",
     "text": [
      " ---- Informe de lanzamiento de la misión ----\n",
      "    \n",
      "Hora de lanzamiento: 11\n",
      "    \n",
      "Tiempo de vuelo: 43\n",
      "    \n",
      "Destino: Moon\n",
      "    \n",
      "Tanque exteno: 284984\n",
      "    \n",
      "Tanque interno: 2789930\n"
     ]
    }
   ],
   "source": [
    "# Función con un informe preciso de la misión. \n",
    "# Considera hora de prelanzamiento, tiempo de vuelo, destino, tanque externo y tanque interno\n",
    "\n",
    "def retrieve_inform(launch_time, fligh_time, destination, external_tank, inernal_tank):\n",
    "    return f\"\"\" ---- Informe de lanzamiento de la misión ----\n",
    "    \\nHora de lanzamiento: {launch_time}\n",
    "    \\nTiempo de vuelo: {fligh_time}\n",
    "    \\nDestino: {destination}\n",
    "    \\nTanque exteno: {external_tank}\n",
    "    \\nTanque interno: {inernal_tank}\"\"\"\n",
    "\n",
    "print(retrieve_inform(11, 43, \"Moon\", 284984, 2789930))\n"
   ]
  },
  {
   "cell_type": "markdown",
   "metadata": {},
   "source": [
    "La función es problemática porque no se puede adaptar para minutos adicionales o tanques adicionales de combustible. Hazlo más flexible permitiendo cualquier número de pasos basados en el tiempo y cualquier número de tanques. \n",
    "\n",
    "En lugar de usar *args y **kwargs, aprovecha el hecho de que puedes usar cualquier nombre que desees. Asegurate que la función sea más legible mediante el uso de nombres de variables que están asociados con las entradas, como *minutes y **fuel_reservoirs:"
   ]
  },
  {
   "cell_type": "code",
   "execution_count": 51,
   "metadata": {},
   "outputs": [
    {
     "name": "stdout",
     "output_type": "stream",
     "text": [
      " ---- Informe de lanzamiento de la misión ----\n",
      "    \n",
      "Tiempo total de lanzamiento: 50\n",
      "    \n",
      "Destino: Moon\n",
      "    \n",
      "Combustible : {'internal': 284984, 'external': 2789930}\n"
     ]
    }
   ],
   "source": [
    "\n",
    "def retrieve_inform(destination, *minutes,  **fuel_reservoirs):\n",
    "    return f\"\"\" ---- Informe de lanzamiento de la misión ----\n",
    "    \\nTiempo total de lanzamiento: {sum(minutes)}\n",
    "    \\nDestino: {destination}\n",
    "    \\nCombustible : {fuel_reservoirs}\"\"\"\n",
    "\n",
    "print(retrieve_inform(\"Moon\", 13,22,15, internal = 284984, external = 2789930))"
   ]
  },
  {
   "cell_type": "markdown",
   "metadata": {},
   "source": [
    "Debido a que el combustible que queda en los tanques es específico de cada tanque, actualiza la función para usar el nombre de cada tanque en el informe:"
   ]
  },
  {
   "cell_type": "code",
   "execution_count": 94,
   "metadata": {},
   "outputs": [
    {
     "name": "stdout",
     "output_type": "stream",
     "text": [
      " ---------- Informe de lanzamiento de la misión --------\n",
      "    \n",
      "Tiempo total de lanzamiento: 50\n",
      "    \n",
      "Destino: Moon\n",
      "    \n",
      "--Tanques de Combustible--\n",
      "\n",
      "Tank name: internal \n",
      "Reserva de combustible: 284984\n",
      "Tank name: external \n",
      "Reserva de combustible: 2789930\n",
      "\n"
     ]
    }
   ],
   "source": [
    "\n",
    "def retrieve_inform(destination, *minutes,  **fuel_reservoirs):\n",
    "    fuel_data = '\\n--Tanques de Combustible--\\n\\n'\n",
    "    \n",
    "    for key in fuel_reservoirs.keys():\n",
    "        fuel_data = fuel_data + f'Tank name: {key} \\nReserva de combustible: {fuel_reservoirs[key]}\\n'\n",
    "        \n",
    "    return f\"\"\" ---------- Informe de lanzamiento de la misión --------\n",
    "    \\nTiempo total de lanzamiento: {sum(minutes)}\n",
    "    \\nDestino: {destination}\n",
    "    \"\"\" + fuel_data\n",
    "\n",
    "print(retrieve_inform(\"Moon\", 13,22,15, internal = 284984, external = 2789930))"
   ]
  }
 ],
 "metadata": {
  "interpreter": {
   "hash": "b79abbba9c481201dcd8f58e6bf613c86cc19274799109d980a50bf6a1c58666"
  },
  "kernelspec": {
   "display_name": "Python 3.10.2 64-bit",
   "language": "python",
   "name": "python3"
  },
  "language_info": {
   "codemirror_mode": {
    "name": "ipython",
    "version": 3
   },
   "file_extension": ".py",
   "mimetype": "text/x-python",
   "name": "python",
   "nbconvert_exporter": "python",
   "pygments_lexer": "ipython3",
   "version": "3.10.2"
  },
  "orig_nbformat": 4
 },
 "nbformat": 4,
 "nbformat_minor": 2
}
