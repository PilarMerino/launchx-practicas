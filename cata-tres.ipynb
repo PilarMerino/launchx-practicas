{
 "cells": [
  {
   "cell_type": "markdown",
   "metadata": {},
   "source": [
    "## Ejercicio - Escribir declaraciones if, else, y elif"
   ]
  },
  {
   "cell_type": "markdown",
   "metadata": {},
   "source": [
    "Para este ejercicio, escribirás una lógica condicional que imprima una advertencia si un asteroide se acerca a la Tierra demasiado rápido. La velocidad del asteroide varía dependiendo de lo cerca que esté del sol, y cualquier velocidad superior a 25 kilómetros por segundo (km/s) merece una advertencia.\n",
    "\n",
    "Un asteroide se acerca, y viaja a una velocidad de 49 km/s.\n",
    "\n"
   ]
  },
  {
   "cell_type": "code",
   "execution_count": 5,
   "metadata": {},
   "outputs": [
    {
     "name": "stdout",
     "output_type": "stream",
     "text": [
      "Va demasiado rápido\n"
     ]
    }
   ],
   "source": [
    "velocity = 49\n",
    "if velocity > 25 : \n",
    "    print(\"¡Cuidado! Un asteroide se acerca demasiado rápido\")\n",
    "else:   \n",
    "    print(\"Todo bajo control\")\n",
    "\n"
   ]
  },
  {
   "cell_type": "markdown",
   "metadata": {},
   "source": [
    "Si un asteroide entra en la atmósfera de la Tierra a una velocidad mayor o igual a 20 km/s, a veces produce un rayo de luz que se puede ver desde la Tierra. Escribe la lógica condicional que usa declaraciones if, else, y elif para alertar a las personas de todo el mundo que deben buscar un asteroide en el cielo. ¡Hay uno que se dirige a la tierra ahora a una velocidad de 19 km/s!\n"
   ]
  },
  {
   "cell_type": "code",
   "execution_count": 10,
   "metadata": {},
   "outputs": [
    {
     "name": "stdout",
     "output_type": "stream",
     "text": [
      "Un asteroide ha entrado a la tierra, debes buscarlo en el cielo\n"
     ]
    }
   ],
   "source": [
    "velocity = 22\n",
    "if velocity >= 20 : \n",
    "    print(\"Un asteroide ha entrado a la tierra, debes buscarlo en el cielo\")\n",
    "elif velocity <= 20 and velocity >= 1:\n",
    "    print(\"El asteroide va a una velocidad de \" + str(velocity) + \" El rayo de Luz no se producira\") \n",
    "else:   \n",
    "    print(\"No ha entrano algún asteroide\") "
   ]
  },
  {
   "cell_type": "markdown",
   "metadata": {},
   "source": [
    "## Ejercicio: Uso de operadores and y or\n",
    "\n",
    "En este ejercicio, aprenderás información más matizada sobre cuándo los asteroides representan un peligro para la Tierra, y utilizarás esa información para mejorar nuestro sistema de advertencia. Aquí está la nueva información que necesitas saber:\n",
    "\n",
    "*Los asteroides de menos de 25 metros en su dimensión más grande probablemente se quemarán a medida que entren en la atmósfera de la Tierra.\n",
    "\n",
    "Si una pieza de un asteroide que es más grande que 25 metros pero más pequeña que 1000 metros golpeara la Tierra, causaría mucho daño.\n",
    "También discutimos en el ejercicio anterior que:\n",
    "\n",
    "La velocidad del asteroide varía en función de lo cerca que esté del sol, y cualquier velocidad superior a 25 kilómetros por segundo (km/s) merece una advertencia.\n",
    "\n",
    "Si un asteroide entra en la atmósfera de la Tierra a una velocidad mayor o igual a 20 km/s, a veces produce un rayo de luz que se puede ver desde la Tierra.\n",
    "\n",
    "Usando toda esta información, escribe un programa que emita la advertencia o información correcta a la gente de la Tierra, según la velocidad y el tamaño de un asteroide. Utiliza instrucciones if, else, y elif, así como los operadores and y or."
   ]
  },
  {
   "cell_type": "code",
   "execution_count": 25,
   "metadata": {},
   "outputs": [
    {
     "name": "stdout",
     "output_type": "stream",
     "text": [
      "Ingresa la Velocidad del asteroide: \n",
      "Ingresa la Dimensión del asteroide: \n",
      "Velocidad: 20\n",
      "Dimensión: 24\n",
      "!Algo sorprendente sucederá en el cielo, Busca un rayo de Luz¡ \n"
     ]
    }
   ],
   "source": [
    "print(\"Ingresa la Velocidad del asteroide: \")\n",
    "velocity = int(input())\n",
    "print(\"Ingresa la Dimensión del asteroide: \")\n",
    "dimension = int(input())\n",
    "\n",
    "print(\"Velocidad: \" + str(velocity))\n",
    "print(\"Dimensión: \" + str(dimension))\n",
    "\n",
    "if velocity >= 20:\n",
    "        if velocity >25  or (dimension >= 25 and dimension < 1000):\n",
    "            print(\"Esta es una alerta, la velocidad del asteroide excede los 25 Km/s Y /o La dimensión es muy grande \")\n",
    "        else:\n",
    "            print(\"!Algo sorprendente sucederá en el cielo, Busca un rayo de Luz¡ \")               \n",
    "elif dimension >= 25 and dimension < 1000:\n",
    "    print(\"¡Esta es una alerta! La dimensión es muy grande \")\n",
    "else:\n",
    "    print( \" Todo está bajo control con los asteroides\") "
   ]
  }
 ],
 "metadata": {
  "interpreter": {
   "hash": "b79abbba9c481201dcd8f58e6bf613c86cc19274799109d980a50bf6a1c58666"
  },
  "kernelspec": {
   "display_name": "Python 3.10.2 64-bit",
   "language": "python",
   "name": "python3"
  },
  "language_info": {
   "codemirror_mode": {
    "name": "ipython",
    "version": 3
   },
   "file_extension": ".py",
   "mimetype": "text/x-python",
   "name": "python",
   "nbconvert_exporter": "python",
   "pygments_lexer": "ipython3",
   "version": "3.10.2"
  },
  "orig_nbformat": 4
 },
 "nbformat": 4,
 "nbformat_minor": 2
}
